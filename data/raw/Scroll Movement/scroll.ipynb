{
 "cells": [
  {
   "cell_type": "code",
   "execution_count": 1,
   "metadata": {},
   "outputs": [],
   "source": [
    "import numpy as np\n",
    "import pandas as pd\n",
    "from sklearn.ensemble import RandomForestClassifier\n",
    "from sklearn.svm import SVC\n",
    "from sklearn.linear_model import LogisticRegression\n",
    "from sklearn.neighbors import KNeighborsClassifier\n",
    "from sklearn.pipeline import make_pipeline\n",
    "from sklearn.preprocessing import StandardScaler"
   ]
  },
  {
   "cell_type": "code",
   "execution_count": 2,
   "metadata": {},
   "outputs": [],
   "source": [
    "# Function to extract features from raw scroll data\n",
    "def extract_features(df):\n",
    "    # Scroll distance: difference in position between consecutive scroll events\n",
    "    df['scroll_distance'] = df['position'].diff().fillna(0).abs()\n",
    "\n",
    "    # Scroll speed variance: variance of speed values\n",
    "    scroll_speed_variance = df['speed'].var()\n",
    "\n",
    "    # Direction changes: when the position change direction (up or down)\n",
    "    df['direction_change'] = np.sign(df['position'].diff())\n",
    "    direction_changes = df['direction_change'].diff().fillna(0).abs().sum()\n",
    "\n",
    "    # Pauses between scrolls: time difference between consecutive scroll events\n",
    "    df['pause'] = df['timestamp'].diff().fillna(0)\n",
    "    average_pause = df['pause'].mean()\n",
    "\n",
    "    # Summarize the features for the entire scroll session\n",
    "    features = {\n",
    "        'total_scroll_distance': df['scroll_distance'].sum(),\n",
    "        'scroll_speed_variance': scroll_speed_variance,\n",
    "        'direction_changes': direction_changes,\n",
    "        'average_pause': average_pause\n",
    "    }\n",
    "\n",
    "    return features"
   ]
  },
  {
   "cell_type": "code",
   "execution_count": 3,
   "metadata": {},
   "outputs": [],
   "source": [
    "# Function to process all datasets and extract features\n",
    "def process_datasets(human_files, bot_files):\n",
    "    all_data = []\n",
    "\n",
    "    # Process human datasets\n",
    "    for file in human_files:\n",
    "        df = pd.read_csv(file)\n",
    "        features = extract_features(df)\n",
    "        features['is_human'] = 1  # Label humans as 1\n",
    "        all_data.append(features)\n",
    "\n",
    "    # Process bot datasets\n",
    "    for file in bot_files:\n",
    "        df = pd.read_csv(file)\n",
    "        features = extract_features(df)\n",
    "        features['is_human'] = 0  # Label bots as 0\n",
    "        all_data.append(features)\n",
    "\n",
    "    # Return a DataFrame with all combined data\n",
    "    return pd.DataFrame(all_data)"
   ]
  },
  {
   "cell_type": "code",
   "execution_count": 4,
   "metadata": {},
   "outputs": [],
   "source": [
    "# List of CSV files for humans and bots\n",
    "human_files = [\n",
    "    'E:\\\\Projects\\\\SIH\\\\Demo\\\\Scroll Movement\\\\dataset\\\\human\\\\human 1.csv',\n",
    "    'E:\\\\Projects\\\\SIH\\\\Demo\\\\Scroll Movement\\\\dataset\\\\human\\\\human 2.csv',\n",
    "    'E:\\\\Projects\\\\SIH\\\\Demo\\\\Scroll Movement\\\\dataset\\\\human\\\\human 3.csv',\n",
    "    'E:\\\\Projects\\\\SIH\\\\Demo\\\\Scroll Movement\\\\dataset\\\\human\\\\human 4.csv',\n",
    "    'E:\\\\Projects\\\\SIH\\\\Demo\\\\Scroll Movement\\\\dataset\\\\human\\\\human 5.csv'\n",
    "]\n",
    "bot_files = [\n",
    "    'E:\\\\Projects\\\\SIH\\\\Demo\\\\Scroll Movement\\\\dataset\\\\bot\\\\bot_1_constant_speed.csv',\n",
    "    'E:\\\\Projects\\\\SIH\\\\Demo\\\\Scroll Movement\\\\dataset\\\\bot\\\\bot_2_accelerating.csv',\n",
    "    'E:\\\\Projects\\\\SIH\\\\Demo\\\\Scroll Movement\\\\dataset\\\\bot\\\\bot_3_decelerating.csv',\n",
    "    'E:\\\\Projects\\\\SIH\\\\Demo\\\\Scroll Movement\\\\dataset\\\\bot\\\\bot_4_random_jumps.csv',\n",
    "    'E:\\\\Projects\\\\SIH\\\\Demo\\\\Scroll Movement\\\\dataset\\\\bot\\\\bot_5_pauses.csv'\n",
    "]"
   ]
  },
  {
   "cell_type": "code",
   "execution_count": 5,
   "metadata": {},
   "outputs": [],
   "source": [
    "# Extract features and labels from datasets\n",
    "data = process_datasets(human_files, bot_files)"
   ]
  },
  {
   "cell_type": "code",
   "execution_count": 6,
   "metadata": {},
   "outputs": [],
   "source": [
    "# Features (X) and Labels (y)\n",
    "X = data[['total_scroll_distance', 'scroll_speed_variance', 'direction_changes', 'average_pause']]\n",
    "y = data['is_human']"
   ]
  },
  {
   "cell_type": "code",
   "execution_count": 7,
   "metadata": {},
   "outputs": [],
   "source": [
    "# Define multiple classifiers\n",
    "classifiers = {\n",
    "    \"Random Forest\": RandomForestClassifier(n_estimators=100, random_state=42),\n",
    "    \"Support Vector Machine\": make_pipeline(StandardScaler(), SVC()),\n",
    "    \"Logistic Regression\": make_pipeline(StandardScaler(), LogisticRegression()),\n",
    "    \"K-Nearest Neighbors\": make_pipeline(StandardScaler(), KNeighborsClassifier(n_neighbors=3))\n",
    "}"
   ]
  },
  {
   "cell_type": "code",
   "execution_count": 8,
   "metadata": {},
   "outputs": [
    {
     "name": "stdout",
     "output_type": "stream",
     "text": [
      "Random Forest has been trained successfully.\n",
      "Support Vector Machine has been trained successfully.\n",
      "Logistic Regression has been trained successfully.\n",
      "K-Nearest Neighbors has been trained successfully.\n"
     ]
    }
   ],
   "source": [
    "# Train all classifiers\n",
    "trained_models = {}\n",
    "for name, model in classifiers.items():\n",
    "    model.fit(X, y)\n",
    "    trained_models[name] = model\n",
    "    print(f\"{name} has been trained successfully.\")"
   ]
  },
  {
   "cell_type": "code",
   "execution_count": 9,
   "metadata": {},
   "outputs": [],
   "source": [
    "# Function to load the models and make predictions on new data\n",
    "def predict_user_from_csv(file_path, trained_models):\n",
    "    # Load and extract features from the new CSV file\n",
    "    df = pd.read_csv(file_path)\n",
    "    features = extract_features(df)\n",
    "    \n",
    "    # Convert the features to a DataFrame for prediction\n",
    "    input_data = pd.DataFrame([features])\n",
    "\n",
    "    # Predict whether the user is human or bot using each classifier\n",
    "    predictions = {}\n",
    "    for name, model in trained_models.items():\n",
    "        prediction = model.predict(input_data)\n",
    "        predictions[name] = 'Human' if prediction == 1 else 'Bot'\n",
    "        print(f\"The overall prediction for '{file_path}' using {name} is: {predictions[name]}\")\n",
    "    \n",
    "    return predictions"
   ]
  },
  {
   "cell_type": "code",
   "execution_count": 11,
   "metadata": {},
   "outputs": [
    {
     "name": "stdout",
     "output_type": "stream",
     "text": [
      "The overall prediction for 'scroll_data.csv' using Random Forest is: Human\n",
      "The overall prediction for 'scroll_data.csv' using Support Vector Machine is: Human\n",
      "The overall prediction for 'scroll_data.csv' using Logistic Regression is: Bot\n",
      "The overall prediction for 'scroll_data.csv' using K-Nearest Neighbors is: Human\n"
     ]
    }
   ],
   "source": [
    "# Example usage with a new CSV file\n",
    "result = predict_user_from_csv('scroll_data.csv', trained_models)\n",
    "# print(result)"
   ]
  },
  {
   "cell_type": "code",
   "execution_count": null,
   "metadata": {},
   "outputs": [],
   "source": []
  }
 ],
 "metadata": {
  "kernelspec": {
   "display_name": "Python 3",
   "language": "python",
   "name": "python3"
  },
  "language_info": {
   "codemirror_mode": {
    "name": "ipython",
    "version": 3
   },
   "file_extension": ".py",
   "mimetype": "text/x-python",
   "name": "python",
   "nbconvert_exporter": "python",
   "pygments_lexer": "ipython3",
   "version": "3.12.1"
  }
 },
 "nbformat": 4,
 "nbformat_minor": 2
}
