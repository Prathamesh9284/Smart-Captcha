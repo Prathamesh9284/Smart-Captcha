{
 "cells": [
  {
   "cell_type": "code",
   "execution_count": 13,
   "metadata": {},
   "outputs": [],
   "source": [
    "import numpy as np\n",
    "import pandas as pd\n",
    "from sklearn.ensemble import RandomForestClassifier\n",
    "from sklearn.svm import SVC\n",
    "from sklearn.linear_model import LogisticRegression\n",
    "from sklearn.neighbors import KNeighborsClassifier\n",
    "from sklearn.pipeline import make_pipeline\n",
    "from sklearn.preprocessing import StandardScaler"
   ]
  },
  {
   "cell_type": "code",
   "execution_count": 14,
   "metadata": {},
   "outputs": [],
   "source": [
    "# Load datasets\n",
    "human_data = pd.read_csv('human.csv')\n",
    "bot_data = pd.read_csv('bot.csv')"
   ]
  },
  {
   "cell_type": "code",
   "execution_count": 15,
   "metadata": {},
   "outputs": [],
   "source": [
    "# Function to extract features\n",
    "def extract_features(data):\n",
    "    data['timestamp'] = pd.to_datetime(data['timestamp'])\n",
    "    data['time_diff'] = data.groupby('fieldName')['timestamp'].diff().dt.total_seconds().fillna(0)\n",
    "\n",
    "    # Aggregate features for each field\n",
    "    features = data.groupby('fieldName')['time_diff'].agg(['mean', 'std', 'min', 'max']).reset_index()\n",
    "    return features.drop('fieldName', axis=1).values.flatten()"
   ]
  },
  {
   "cell_type": "code",
   "execution_count": 16,
   "metadata": {},
   "outputs": [],
   "source": [
    "# Prepare the data\n",
    "human_features = extract_features(human_data)\n",
    "bot_features = extract_features(bot_data)\n",
    "\n",
    "X = []\n",
    "y = []\n",
    "\n",
    "X.append(human_features)\n",
    "y.append(0)  # Label for human\n",
    "\n",
    "X.append(bot_features)\n",
    "y.append(1)  # Label for bot\n",
    "\n",
    "X = pd.DataFrame(X)\n",
    "y = pd.Series(y)"
   ]
  },
  {
   "cell_type": "code",
   "execution_count": 23,
   "metadata": {},
   "outputs": [
    {
     "name": "stdout",
     "output_type": "stream",
     "text": [
      "Human Features Statistics:\n",
      "               0\n",
      "count  8.000000\n",
      "mean   0.095350\n",
      "std    0.076398\n",
      "min    0.000000\n",
      "25%    0.046348\n",
      "50%    0.094376\n",
      "75%    0.141187\n",
      "max    0.202000\n",
      "\n",
      "Bot Features Statistics:\n",
      "               0\n",
      "count  8.000000\n",
      "mean   0.000531\n",
      "std    0.000382\n",
      "min    0.000000\n",
      "25%    0.000375\n",
      "50%    0.000541\n",
      "75%    0.000750\n",
      "max    0.001000\n"
     ]
    }
   ],
   "source": [
    "# Descriptive statistics for human and bot features\n",
    "human_stats = pd.DataFrame(human_features).describe()\n",
    "bot_stats = pd.DataFrame(bot_features).describe()\n",
    "\n",
    "print(\"Human Features Statistics:\\n\", human_stats)\n",
    "print(\"\\nBot Features Statistics:\\n\", bot_stats)\n"
   ]
  },
  {
   "cell_type": "code",
   "execution_count": 6,
   "metadata": {},
   "outputs": [],
   "source": [
    "# List of classifiers to compare\n",
    "classifiers = {\n",
    "    \"Random Forest\": RandomForestClassifier(),\n",
    "    \"Support Vector Machine\": make_pipeline(StandardScaler(), SVC()),\n",
    "    \"Logistic Regression\": make_pipeline(StandardScaler(), LogisticRegression()),\n",
    "    \"K-Nearest Neighbors\": make_pipeline(StandardScaler(), KNeighborsClassifier(n_neighbors=1))  \n",
    "}"
   ]
  },
  {
   "cell_type": "code",
   "execution_count": 7,
   "metadata": {},
   "outputs": [
    {
     "name": "stdout",
     "output_type": "stream",
     "text": [
      "Random Forest has been trained successfully.\n",
      "Support Vector Machine has been trained successfully.\n",
      "Logistic Regression has been trained successfully.\n",
      "K-Nearest Neighbors has been trained successfully.\n"
     ]
    }
   ],
   "source": [
    "# Train all classifiers on the entire dataset\n",
    "trained_models = {}\n",
    "for name, model in classifiers.items():\n",
    "    model.fit(X, y)\n",
    "    trained_models[name] = model\n",
    "    print(f\"{name} has been trained successfully.\")"
   ]
  },
  {
   "cell_type": "code",
   "execution_count": 10,
   "metadata": {},
   "outputs": [],
   "source": [
    "# Predict for a new dataset using all models and display the results\n",
    "def classify_new_data(file_path, trained_models):\n",
    "    new_data = pd.read_csv(file_path)\n",
    "    new_features = extract_features(new_data)\n",
    "    predictions = {}\n",
    "    for name, model in trained_models.items():\n",
    "        prediction = model.predict([new_features])\n",
    "        predictions[name] = 'Bot' if prediction[0] == 1 else 'Human'\n",
    "        print(f\"The given file is classified as: {predictions[name]} using {name}\")\n",
    "    # return predictions"
   ]
  },
  {
   "cell_type": "code",
   "execution_count": 11,
   "metadata": {},
   "outputs": [
    {
     "name": "stdout",
     "output_type": "stream",
     "text": [
      "The given file is classified as: Bot using Random Forest\n",
      "The given file is classified as: Bot using Support Vector Machine\n",
      "The given file is classified as: Bot using Logistic Regression\n",
      "The given file is classified as: Bot using K-Nearest Neighbors\n"
     ]
    }
   ],
   "source": [
    "# Example usage\n",
    "file_to_classify = 'bot_test.csv'\n",
    "classify_new_data(file_to_classify, trained_models)"
   ]
  },
  {
   "cell_type": "code",
   "execution_count": 12,
   "metadata": {},
   "outputs": [
    {
     "name": "stdout",
     "output_type": "stream",
     "text": [
      "The given file is classified as: Human using Random Forest\n",
      "The given file is classified as: Human using Support Vector Machine\n",
      "The given file is classified as: Human using Logistic Regression\n",
      "The given file is classified as: Human using K-Nearest Neighbors\n"
     ]
    }
   ],
   "source": [
    "file_to_classify = 'human_test.csv'\n",
    "classify_new_data(file_to_classify, trained_models)"
   ]
  },
  {
   "cell_type": "code",
   "execution_count": null,
   "metadata": {},
   "outputs": [],
   "source": []
  }
 ],
 "metadata": {
  "kernelspec": {
   "display_name": "Python 3",
   "language": "python",
   "name": "python3"
  },
  "language_info": {
   "codemirror_mode": {
    "name": "ipython",
    "version": 3
   },
   "file_extension": ".py",
   "mimetype": "text/x-python",
   "name": "python",
   "nbconvert_exporter": "python",
   "pygments_lexer": "ipython3",
   "version": "3.12.1"
  }
 },
 "nbformat": 4,
 "nbformat_minor": 2
}
